{
 "cells": [
  {
   "cell_type": "code",
   "execution_count": 1,
   "metadata": {},
   "outputs": [],
   "source": [
    "import pandas as pd\n",
    "import numpy as np\n",
    "import json"
   ]
  },
  {
   "cell_type": "code",
   "execution_count": 2,
   "metadata": {},
   "outputs": [],
   "source": [
    "# fixed parameters\n",
    "balls = 10\n",
    "name_cols = ['B','W','R','G']\n",
    "name_urns = ['A','B','C','D']\n",
    "\n",
    "# Experimental Design: Ball compositions and define the maximum number of urns = 4 and maximum number of colours = 4\n",
    "ball_comp = {(2,2):{'p_col1_u1':0.7, 'p_col2_u1':0.3, 'p_col1_u2':0.3, 'p_col2_u2':0.7}, \n",
    "             (2,3):{'p_col1_u1':0.7, 'p_col2_u1':0.2, 'p_col3_u1':0.1, 'p_col1_u2':0.2, 'p_col2_u2':0.1, 'p_col3_u2':0.7},\n",
    "             (2,4):{'p_col1_u1':0.4, 'p_col2_u1':0.3, 'p_col3_u1':0.2, 'p_col4_u1':0.1, 'p_col1_u2':0.1, 'p_col2_u2':0.2, 'p_col3_u2':0.3, 'p_col4_u2':0.4},\n",
    "             (3,2):{'p_col1_u1':0.7, 'p_col2_u1':0.3, 'p_col1_u2':0.5, 'p_col2_u2':0.5, 'p_col1_u3':0.3, 'p_col2_u3':0.7},\n",
    "             (3,3):{'p_col1_u1':0.7, 'p_col2_u1':0.2, 'p_col3_u1':0.1, 'p_col1_u2':0.1, 'p_col2_u2':0.7, 'p_col3_u2':0.2, 'p_col1_u3':0.2, 'p_col2_u3':0.1, 'p_col3_u3':0.7},\n",
    "             (3,4):{'p_col1_u1':0.4, 'p_col2_u1':0.3, 'p_col3_u1':0.2, 'p_col4_u1':0.1, 'p_col1_u2':0.3, 'p_col2_u2':0.2, 'p_col3_u2':0.2, 'p_col4_u2':0.3, 'p_col1_u3':0.1, 'p_col2_u3':0.2, 'p_col3_u3':0.3, 'p_col4_u3':0.4},\n",
    "             (4,2):{'p_col1_u1':0.7, 'p_col2_u1':0.3, 'p_col1_u2':0.6, 'p_col2_u2':0.4, 'p_col1_u3':0.4, 'p_col2_u3':0.6, 'p_col1_u4':0.3, 'p_col2_u4':0.7},\n",
    "             (4,3):{'p_col1_u1':0.7, 'p_col2_u1':0.2, 'p_col3_u1':0.1, 'p_col1_u2':0.1, 'p_col2_u2':0.7, 'p_col3_u2':0.2, 'p_col1_u3':0.2, 'p_col2_u3':0.1, 'p_col3_u3':0.7, 'p_col1_u4':0.3, 'p_col2_u4':0.4, 'p_col3_u4':0.3},\n",
    "             (4,4):{'p_col1_u1':0.4, 'p_col2_u1':0.3, 'p_col3_u1':0.2, 'p_col4_u1':0.1, 'p_col1_u2':0.3, 'p_col2_u2':0.4, 'p_col3_u2':0.1, 'p_col4_u2':0.2, 'p_col1_u3':0.2, 'p_col2_u3':0.1, 'p_col3_u3':0.4, 'p_col4_u3':0.3, 'p_col1_u4':0.1, 'p_col2_u4':0.2, 'p_col3_u4':0.3, 'p_col4_u4':0.4}\n",
    "}\n",
    "\n"
   ]
  },
  {
   "cell_type": "code",
   "execution_count": 3,
   "metadata": {},
   "outputs": [],
   "source": [
    "def create_urnTable_json(urns, colours, balls, ball_comp, name_cols, name_urns, prior):\n",
    "    ball_comp_df = pd.DataFrame(ball_comp[(urns,colours)], index=[0])\n",
    "    ball_comp_freq = ball_comp_df * balls\n",
    "    urn_lis = []\n",
    "\n",
    "    for i in range(urns):\n",
    "        lis =[]\n",
    "        for j in range(colours):\n",
    "            lis.append(str(int(ball_comp_freq['p_col'+str(j+1)+'_u'+str(i+1)][0])) + name_cols[j])\n",
    "        urn_lis.append(lis)\n",
    "\n",
    "    urn_entries = []\n",
    "    for i in range(urns):\n",
    "        urn_dict = {}\n",
    "        urn_dict['urnName'] = name_urns[i]\n",
    "        urn_dict['prior'] = prior\n",
    "        urn_dict['composition'] = urn_lis[i]\n",
    "        urn_dict['balls'] = balls\n",
    "        urn_entries.append(urn_dict)\n",
    "\n",
    "    # Wrap the list in an object\n",
    "    urn_entries_object = {\n",
    "        \"urnEntries\": urn_entries\n",
    "    }\n",
    "\n",
    "    # Convert the dictionary to a JSON string\n",
    "    urn_entries_json = json.dumps(urn_entries_object, indent=4)\n",
    "\n",
    "    # Write the JSON string to a file\n",
    "    filename = f'Resources/urn_entries_{urns}_{colours}.json'\n",
    "    with open(filename, 'w') as json_file:\n",
    "        json_file.write(urn_entries_json)\n"
   ]
  },
  {
   "cell_type": "code",
   "execution_count": 4,
   "metadata": {},
   "outputs": [],
   "source": [
    "# Floating parameters\n",
    "max_urns = 4\n",
    "max_colours = 4\n",
    "\n",
    "for urns in range(2, max_urns+1):\n",
    "    for colours in range(2, max_colours+1):\n",
    "        prior = 1/urns\n",
    "        create_urnTable_json(urns, colours, balls, ball_comp, name_cols, name_urns, prior) \n"
   ]
  }
 ],
 "metadata": {
  "kernelspec": {
   "display_name": "Python 3",
   "language": "python",
   "name": "python3"
  },
  "language_info": {
   "codemirror_mode": {
    "name": "ipython",
    "version": 3
   },
   "file_extension": ".py",
   "mimetype": "text/x-python",
   "name": "python",
   "nbconvert_exporter": "python",
   "pygments_lexer": "ipython3",
   "version": "3.11.5"
  }
 },
 "nbformat": 4,
 "nbformat_minor": 2
}
